{
 "cells": [
  {
   "cell_type": "code",
   "execution_count": null,
   "id": "e3e20f45",
   "metadata": {},
   "outputs": [],
   "source": [
    "import PDFplumber\n",
    "\n",
    "with PDFplumber.open(\"fa3003523217.PDF\") as temp:\n",
    "  first_page = temp.pages[0]\n",
    "  print(first_page.extract_text())"
   ]
  },
  {
   "cell_type": "code",
   "execution_count": null,
   "id": "6c4fde36",
   "metadata": {},
   "outputs": [],
   "source": [
    "from pdf import PDFFileReader\n",
    "temp = open('fa3003523217.PDF', 'rb')\n",
    "PDF_read = PDFFileReader(temp)\n",
    "print(PDF_reader.numPages)"
   ]
  },
  {
   "cell_type": "code",
   "execution_count": null,
   "id": "d581ef9d",
   "metadata": {},
   "outputs": [],
   "source": [
    "first_page = PDF_read.getPage(0)\n",
    "print(first_page.extractText())"
   ]
  },
  {
   "cell_type": "code",
   "execution_count": null,
   "id": "7d0c6605",
   "metadata": {},
   "outputs": [],
   "source": [
    "from pdf import PDFFileReader\n",
    "\n",
    "reader = PdfFileReader(open('fa3003523217.PDF', \"rb\"))"
   ]
  },
  {
   "cell_type": "code",
   "execution_count": 3,
   "id": "694a6825",
   "metadata": {},
   "outputs": [
    {
     "name": "stdout",
     "output_type": "stream",
     "text": [
      "Authentic Kvasový chléb\n",
      "1\n",
      "K-Classic Toustový chléb celozrnný\n",
      "1\n",
      "Jablko Gala\n",
      "1\n",
      "Rajčata cherry červená kulatá, vanička\n",
      "1\n",
      "Authentic by Košík Bulgur salát se žampióny\n",
      "1\n",
      "Le & Co Šunka zvonařka nejvyšší jakosti plátky\n",
      "3\n",
      "Choceňský smetanový jogurt bílý\n",
      "1\n",
      "Italat Mozzarella v nálevu\n",
      "1\n",
      "Milki line Milki Cottage cheese\n",
      "1\n",
      "Čerstvá vejce velikost - M, podestýlková\n",
      "1\n",
      "Harmony Comfort White Family pack Toaletní papí\n",
      "1\n"
     ]
    }
   ],
   "source": [
    "\n",
    "from PyPDF2 import PdfFileReader\n",
    "import re\n",
    "\n",
    "def extract_information(pdf_path):\n",
    "    with open(pdf_path, 'rb') as f:\n",
    "        pdf = PdfFileReader(f)\n",
    "        information = pdf.getDocumentInfo()\n",
    "        page = pdf.getPage(0)\n",
    "        text = page.extractText()\n",
    "        text_list = text.split(\"MJ Cena v Kč\")\n",
    "        to_cut = text_list[1]\n",
    "        values = re.findall(r\"([0-9]KS \\D*)|([0-9].?[0-9]* KG \\D*)\", to_cut)\n",
    "        number_pieces = 0\n",
    "        only_name = \"\"\n",
    "         \n",
    "        for part in values:\n",
    "            if part[0] != '':\n",
    "                number_pieces = re.search(r'\\d*', part[0]).group()\n",
    "                only_name = part[0][4:-2]\n",
    "                print(only_name)\n",
    "                print(number_pieces)\n",
    "                \n",
    "            else:\n",
    "                number_pieces = 1\n",
    "                only_name = re.sub(r\"[0-9].?[0-9]* KG\", r\"\", part[1])[1:-2]\n",
    "                print(only_name)\n",
    "                print(number_pieces)\n",
    "            \n",
    "\n",
    "    return \n",
    "\n",
    "if __name__ == '__main__':\n",
    "    path = 'fa3003523217.PDF'\n",
    "    extract_information(path)"
   ]
  },
  {
   "cell_type": "code",
   "execution_count": null,
   "id": "cb7a3204",
   "metadata": {},
   "outputs": [],
   "source": [
    "path = 'faktura-20210120-1055948695.PDF'\n",
    "extract_information(path)"
   ]
  },
  {
   "cell_type": "code",
   "execution_count": null,
   "id": "f5d76e25",
   "metadata": {},
   "outputs": [],
   "source": [
    "path = 'rhl-receipt-2021-01-20-1055948695.PDF'\n",
    "extract_information(path)"
   ]
  },
  {
   "cell_type": "code",
   "execution_count": null,
   "id": "655a3089",
   "metadata": {},
   "outputs": [],
   "source": [
    "import requests\n",
    "\n",
    "search_string = \"Bio Kefir mild\"\n",
    "search_part = \" EAN\"\n",
    "\n",
    "headers = {\n",
    "            'User-Agent': 'Mozilla/5.0 (Windows NT 10.0; Win64; x64; rv:102.0) Gecko/20100101 Firefox/102.0',\n",
    "            'Accept': '*/*',\n",
    "            'Accept-Language': 'cs,sk;q=0.8,en-US;q=0.5,en;q=0.3',\n",
    "            'Accept-Encoding': 'gzip, deflate, br',\n",
    "            'Referer': 'https://www.google.com/',\n",
    "            'Connection': 'keep-alive',\n",
    "            'Sec-Fetch-Dest': 'script',\n",
    "            'Sec-Fetch-Mode': 'no-cors',\n",
    "            'Sec-Fetch-Site': 'cross-site',\n",
    "    \n",
    "        }\n",
    "params = {\n",
    "            ('$q', search_string + search_part),\n",
    "            ('pws', 0)\n",
    "#            ('$top', '250'),    # 250 is the maximum possible\n",
    "#            ('$skip', self.skipping),\n",
    "#            ('key', 'AjaYWYGCsS71QLms_E2Q-DSLgmiVBjK8yX-jZev8WIby0DCkjWC3pVIkktsun6KO'),\n",
    "#            ('$format', 'json'),\n",
    "#            ('jsonp', 'Microsoft_Maps_Network_QueryAPI_1'),\n",
    "        }\n",
    "\n",
    "response = requests.get(\"https://google.com/\", params=params)\n",
    "response.text"
   ]
  }
 ],
 "metadata": {
  "kernelspec": {
   "display_name": "Python 3 (ipykernel)",
   "language": "python",
   "name": "python3"
  },
  "language_info": {
   "codemirror_mode": {
    "name": "ipython",
    "version": 3
   },
   "file_extension": ".py",
   "mimetype": "text/x-python",
   "name": "python",
   "nbconvert_exporter": "python",
   "pygments_lexer": "ipython3",
   "version": "3.9.7"
  }
 },
 "nbformat": 4,
 "nbformat_minor": 5
}
